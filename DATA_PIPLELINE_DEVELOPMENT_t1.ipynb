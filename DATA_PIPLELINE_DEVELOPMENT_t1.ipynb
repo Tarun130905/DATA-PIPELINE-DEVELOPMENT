{
  "nbformat": 4,
  "nbformat_minor": 0,
  "metadata": {
    "colab": {
      "provenance": []
    },
    "kernelspec": {
      "name": "python3",
      "display_name": "Python 3"
    },
    "language_info": {
      "name": "python"
    }
  },
  "cells": [
    {
      "cell_type": "code",
      "execution_count": 1,
      "metadata": {
        "colab": {
          "base_uri": "https://localhost:8080/"
        },
        "id": "8Ael7OI7NoNR",
        "outputId": "4cfd8a6d-2aaf-44a9-8799-4de2a20e1bc8"
      },
      "outputs": [
        {
          "output_type": "stream",
          "name": "stdout",
          "text": [
            "Transformed Data (Array):\n",
            " [[-1.46908096 -1.41954399  2.15819888  2.08542505  2.01510514  0.\n",
            "   1.        ]\n",
            " [ 0.05718132 -0.44085087  0.0032697  -0.02520844  0.19434949  1.\n",
            "   0.        ]\n",
            " [ 1.35471832  0.7569767   1.83526172  1.0254902   0.57301373  1.\n",
            "   0.        ]\n",
            " [ 0.05718132  1.10341816  0.0032697   0.06309491  1.21753164  0.\n",
            "   1.        ]]\n",
            "\n",
            "Feature Names:\n",
            " ['age' 'income' 'age^2' 'age income' 'income^2' 'gender_female'\n",
            " 'gender_male']\n"
          ]
        }
      ],
      "source": [
        "import numpy as np\n",
        "import pandas as pd\n",
        "from sklearn.pipeline import Pipeline\n",
        "from sklearn.impute import SimpleImputer\n",
        "from sklearn.preprocessing import OneHotEncoder, StandardScaler, FunctionTransformer, PolynomialFeatures\n",
        "from sklearn.compose import ColumnTransformer\n",
        "\n",
        "def numerical_transform(df):\n",
        "    nums = ['float64', 'int64']\n",
        "    num_attr = df.select_dtypes(include=nums)\n",
        "\n",
        "    if num_attr.shape[1] == 0:\n",
        "        raise ValueError(\"No numerical columns found in the dataset.\")\n",
        "\n",
        "    num_pipeline = Pipeline([\n",
        "        ('impute', SimpleImputer(strategy='mean')),\n",
        "        ('log', FunctionTransformer(np.log1p, feature_names_out=\"one-to-one\")),\n",
        "        ('std_scaler', StandardScaler()),\n",
        "        ('poly', PolynomialFeatures(2, interaction_only=False, include_bias=False))\n",
        "    ])\n",
        "\n",
        "    return num_attr, num_pipeline\n",
        "\n",
        "def full_data_pipeline(df):\n",
        "    cat_attr = [\"gender\"]\n",
        "    num_attr, num_pipeline = numerical_transform(df)\n",
        "\n",
        "    full_pipeline = ColumnTransformer([\n",
        "        ('num', num_pipeline, list(num_attr.columns)),  # Use actual column names\n",
        "        ('cat', OneHotEncoder(handle_unknown='ignore'), cat_attr)\n",
        "    ])\n",
        "\n",
        "    return full_pipeline, num_attr.columns, cat_attr\n",
        "\n",
        "# Sample DataFrame for Testing\n",
        "df_sample = pd.DataFrame({\n",
        "    'age': [25, 30, 35, np.nan],  # Includes NaN\n",
        "    'income': [50000, 60000, 75000, 80000],\n",
        "    'gender': ['male', 'female', 'female', 'male']\n",
        "})\n",
        "\n",
        "# Create pipeline and transform the data\n",
        "pipeline, num_attr, cat_attr = full_data_pipeline(df_sample)\n",
        "transformed_data = pipeline.fit_transform(df_sample)\n",
        "\n",
        "# Get transformed feature names\n",
        "num_feature_names = pipeline.named_transformers_['num'].named_steps['poly'].get_feature_names_out(num_attr)\n",
        "cat_feature_names = pipeline.named_transformers_['cat'].get_feature_names_out()\n",
        "\n",
        "# Combine feature names\n",
        "feature_names = np.concatenate([num_feature_names, cat_feature_names])\n",
        "\n",
        "# Display results\n",
        "print(\"Transformed Data (Array):\\n\", transformed_data.toarray() if hasattr(transformed_data, \"toarray\") else transformed_data)\n",
        "print(\"\\nFeature Names:\\n\", feature_names)"
      ]
    }
  ]
}